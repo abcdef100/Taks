{
 "cells": [
  {
   "cell_type": "markdown",
   "id": "8c84ac7e",
   "metadata": {},
   "source": [
    "### 1. Date & time series functionality\n",
    "\n",
    "    The key to this are data types tailored to managing date and time information. \n",
    "    \n",
    "    These data types represent either points in time, or periods of time. \n",
    "    \n",
    "    They have attributes and methods that allow you to access and manipulate the time dimension of your data. \n",
    "    \n",
    "    Any column can contain date or time information, but it is most important as a DataFrame index, \n",
    "    because this converts the entire DataFrame into a time series.\n",
    "\n",
    "\n",
    "You will also learn to use many DataFrame methods that leverage date information stored in the index."
   ]
  },
  {
   "cell_type": "markdown",
   "id": "a1d7192e",
   "metadata": {},
   "source": [
    "<img src=\"use_dates_and_time.jpg\">"
   ]
  },
  {
   "cell_type": "markdown",
   "id": "7b62b0ec",
   "metadata": {},
   "source": [
    "### 1. Working with Time Series in Pandas"
   ]
  },
  {
   "cell_type": "code",
   "execution_count": 2,
   "id": "0296e1ec",
   "metadata": {},
   "outputs": [],
   "source": [
    "##IMPORTING PACKAGES\n",
    "\n",
    "import numpy as np\n",
    "import pandas as pd\n",
    "from datetime import datetime #manual create dates"
   ]
  },
  {
   "cell_type": "code",
   "execution_count": 4,
   "id": "4b740159",
   "metadata": {},
   "outputs": [],
   "source": [
    "tp = pd.Timestamp(datetime(2023,5,25))"
   ]
  },
  {
   "cell_type": "code",
   "execution_count": 5,
   "id": "f982ff06",
   "metadata": {},
   "outputs": [
    {
     "data": {
      "text/plain": [
       "Timestamp('2023-05-25 00:00:00')"
      ]
     },
     "execution_count": 5,
     "metadata": {},
     "output_type": "execute_result"
    }
   ],
   "source": [
    "tp"
   ]
  },
  {
   "cell_type": "code",
   "execution_count": 10,
   "id": "e893ed04",
   "metadata": {},
   "outputs": [
    {
     "name": "stdout",
     "output_type": "stream",
     "text": [
      "25 Thursday 5 May\n"
     ]
    }
   ],
   "source": [
    "print(tp.day , tp.day_name(),tp.month , tp.month_name())"
   ]
  },
  {
   "cell_type": "code",
   "execution_count": 12,
   "id": "93a34e82",
   "metadata": {},
   "outputs": [],
   "source": [
    "## sequence of date and time\n",
    "\n",
    "index = pd.date_range(start='2018-01-01',freq='M',periods=12)"
   ]
  },
  {
   "cell_type": "code",
   "execution_count": 13,
   "id": "839c6233",
   "metadata": {},
   "outputs": [
    {
     "data": {
      "text/plain": [
       "DatetimeIndex(['2018-01-31', '2018-02-28', '2018-03-31', '2018-04-30',\n",
       "               '2018-05-31', '2018-06-30', '2018-07-31', '2018-08-31',\n",
       "               '2018-09-30', '2018-10-31', '2018-11-30', '2018-12-31'],\n",
       "              dtype='datetime64[ns]', freq='M')"
      ]
     },
     "execution_count": 13,
     "metadata": {},
     "output_type": "execute_result"
    }
   ],
   "source": [
    "index"
   ]
  },
  {
   "cell_type": "code",
   "execution_count": 19,
   "id": "8ed7a48c",
   "metadata": {},
   "outputs": [],
   "source": [
    "data = np.random.randint(100,size=(12,2))"
   ]
  },
  {
   "cell_type": "code",
   "execution_count": 20,
   "id": "816949d5",
   "metadata": {},
   "outputs": [
    {
     "data": {
      "text/plain": [
       "array([[78, 19],\n",
       "       [26, 62],\n",
       "       [31,  5],\n",
       "       [44, 18],\n",
       "       [67, 95],\n",
       "       [30, 34],\n",
       "       [18, 60],\n",
       "       [19, 37],\n",
       "       [62, 19],\n",
       "       [26, 86],\n",
       "       [35, 26],\n",
       "       [37, 66]])"
      ]
     },
     "execution_count": 20,
     "metadata": {},
     "output_type": "execute_result"
    }
   ],
   "source": [
    "data"
   ]
  },
  {
   "cell_type": "code",
   "execution_count": 21,
   "id": "7018b611",
   "metadata": {},
   "outputs": [
    {
     "data": {
      "text/plain": [
       "Timestamp('2018-01-31 00:00:00', freq='M')"
      ]
     },
     "execution_count": 21,
     "metadata": {},
     "output_type": "execute_result"
    }
   ],
   "source": [
    "index[0]"
   ]
  },
  {
   "cell_type": "code",
   "execution_count": 22,
   "id": "1db07370",
   "metadata": {},
   "outputs": [
    {
     "data": {
      "text/html": [
       "<div>\n",
       "<style scoped>\n",
       "    .dataframe tbody tr th:only-of-type {\n",
       "        vertical-align: middle;\n",
       "    }\n",
       "\n",
       "    .dataframe tbody tr th {\n",
       "        vertical-align: top;\n",
       "    }\n",
       "\n",
       "    .dataframe thead th {\n",
       "        text-align: right;\n",
       "    }\n",
       "</style>\n",
       "<table border=\"1\" class=\"dataframe\">\n",
       "  <thead>\n",
       "    <tr style=\"text-align: right;\">\n",
       "      <th></th>\n",
       "      <th>0</th>\n",
       "      <th>1</th>\n",
       "    </tr>\n",
       "  </thead>\n",
       "  <tbody>\n",
       "    <tr>\n",
       "      <th>2018-01-31</th>\n",
       "      <td>78</td>\n",
       "      <td>19</td>\n",
       "    </tr>\n",
       "    <tr>\n",
       "      <th>2018-02-28</th>\n",
       "      <td>26</td>\n",
       "      <td>62</td>\n",
       "    </tr>\n",
       "    <tr>\n",
       "      <th>2018-03-31</th>\n",
       "      <td>31</td>\n",
       "      <td>5</td>\n",
       "    </tr>\n",
       "    <tr>\n",
       "      <th>2018-04-30</th>\n",
       "      <td>44</td>\n",
       "      <td>18</td>\n",
       "    </tr>\n",
       "    <tr>\n",
       "      <th>2018-05-31</th>\n",
       "      <td>67</td>\n",
       "      <td>95</td>\n",
       "    </tr>\n",
       "    <tr>\n",
       "      <th>2018-06-30</th>\n",
       "      <td>30</td>\n",
       "      <td>34</td>\n",
       "    </tr>\n",
       "    <tr>\n",
       "      <th>2018-07-31</th>\n",
       "      <td>18</td>\n",
       "      <td>60</td>\n",
       "    </tr>\n",
       "    <tr>\n",
       "      <th>2018-08-31</th>\n",
       "      <td>19</td>\n",
       "      <td>37</td>\n",
       "    </tr>\n",
       "    <tr>\n",
       "      <th>2018-09-30</th>\n",
       "      <td>62</td>\n",
       "      <td>19</td>\n",
       "    </tr>\n",
       "    <tr>\n",
       "      <th>2018-10-31</th>\n",
       "      <td>26</td>\n",
       "      <td>86</td>\n",
       "    </tr>\n",
       "    <tr>\n",
       "      <th>2018-11-30</th>\n",
       "      <td>35</td>\n",
       "      <td>26</td>\n",
       "    </tr>\n",
       "    <tr>\n",
       "      <th>2018-12-31</th>\n",
       "      <td>37</td>\n",
       "      <td>66</td>\n",
       "    </tr>\n",
       "  </tbody>\n",
       "</table>\n",
       "</div>"
      ],
      "text/plain": [
       "             0   1\n",
       "2018-01-31  78  19\n",
       "2018-02-28  26  62\n",
       "2018-03-31  31   5\n",
       "2018-04-30  44  18\n",
       "2018-05-31  67  95\n",
       "2018-06-30  30  34\n",
       "2018-07-31  18  60\n",
       "2018-08-31  19  37\n",
       "2018-09-30  62  19\n",
       "2018-10-31  26  86\n",
       "2018-11-30  35  26\n",
       "2018-12-31  37  66"
      ]
     },
     "execution_count": 22,
     "metadata": {},
     "output_type": "execute_result"
    }
   ],
   "source": [
    "pd.DataFrame(data=data,index=index)"
   ]
  },
  {
   "cell_type": "code",
   "execution_count": 24,
   "id": "8da92aec",
   "metadata": {},
   "outputs": [],
   "source": [
    "seven_days = pd.date_range(start='2017-1-1',freq='D',periods=7)"
   ]
  },
  {
   "cell_type": "code",
   "execution_count": 31,
   "id": "6211e2c3",
   "metadata": {},
   "outputs": [
    {
     "name": "stdout",
     "output_type": "stream",
     "text": [
      "6 Sunday\n",
      "0 Monday\n",
      "1 Tuesday\n",
      "2 Wednesday\n",
      "3 Thursday\n",
      "4 Friday\n",
      "5 Saturday\n"
     ]
    }
   ],
   "source": [
    "for days in seven_days:\n",
    "    print(days.day_of_week,days.day_name())"
   ]
  },
  {
   "cell_type": "code",
   "execution_count": null,
   "id": "d3a3f8e7",
   "metadata": {},
   "outputs": [],
   "source": []
  },
  {
   "cell_type": "code",
   "execution_count": null,
   "id": "de221a2b",
   "metadata": {},
   "outputs": [],
   "source": []
  },
  {
   "cell_type": "code",
   "execution_count": null,
   "id": "2298a472",
   "metadata": {},
   "outputs": [],
   "source": []
  },
  {
   "cell_type": "code",
   "execution_count": null,
   "id": "bb451fcd",
   "metadata": {},
   "outputs": [],
   "source": []
  }
 ],
 "metadata": {
  "kernelspec": {
   "display_name": "Python 3 (ipykernel)",
   "language": "python",
   "name": "python3"
  },
  "language_info": {
   "codemirror_mode": {
    "name": "ipython",
    "version": 3
   },
   "file_extension": ".py",
   "mimetype": "text/x-python",
   "name": "python",
   "nbconvert_exporter": "python",
   "pygments_lexer": "ipython3",
   "version": "3.10.9"
  }
 },
 "nbformat": 4,
 "nbformat_minor": 5
}
